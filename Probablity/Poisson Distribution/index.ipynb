{
 "cells": [
  {
   "cell_type": "code",
   "execution_count": null,
   "metadata": {},
   "outputs": [],
   "source": [
    "from scipy.stats import poisson\n",
    "import matplotlib.pyplot as plt\n",
    "import numpy as np\n",
    "\n",
    "# Parameters\n",
    "lambda_ = 5  # average rate of events (e.g., 5 events per hour)\n",
    "\n",
    "# Possible outcomes\n",
    "x_values = np.arange(0, 20)\n",
    "\n",
    "# PMF and CDF\n",
    "pmf_values = poisson.pmf(x_values, lambda_)\n",
    "cdf_values = poisson.cdf(x_values, lambda_)\n",
    "\n",
    "# Plotting\n",
    "plt.figure(figsize=(12, 6))\n",
    "\n",
    "# Plot PMF\n",
    "plt.subplot(1, 2, 1)\n",
    "plt.stem(x_values, pmf_values, basefmt=\" \", linefmt='blue', markerfmt='bo', label='PMF')\n",
    "plt.title(\"Poisson Distribution - PMF\")\n",
    "plt.xlabel(\"Number of Events\")\n",
    "plt.ylabel(\"Probability\")\n",
    "plt.legend()\n",
    "\n",
    "# Plot CDF\n",
    "plt.subplot(1, 2, 2)\n",
    "plt.step(x_values, cdf_values, color='green', where='post', label='CDF')\n",
    "plt.title(\"Poisson Distribution - CDF\")\n",
    "plt.xlabel(\"Number of Events\")\n",
    "plt.ylabel(\"Cumulative Probability\")\n",
    "plt.legend()\n",
    "\n",
    "plt.tight_layout()\n",
    "plt.show()\n"
   ]
  }
 ],
 "metadata": {
  "kernelspec": {
   "display_name": "Python 3",
   "language": "python",
   "name": "python3"
  },
  "language_info": {
   "name": "python",
   "version": "3.12.2"
  }
 },
 "nbformat": 4,
 "nbformat_minor": 2
}
