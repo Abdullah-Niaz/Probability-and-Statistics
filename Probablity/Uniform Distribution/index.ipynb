{
 "cells": [
  {
   "cell_type": "code",
   "execution_count": null,
   "metadata": {},
   "outputs": [],
   "source": [
    "import numpy as np\n",
    "import matplotlib.pyplot as plt\n",
    "from scipy.stats import uniform\n",
    "\n",
    "# Parameters\n",
    "a, b = 0, 1  # range of values\n",
    "\n",
    "# Range for plotting\n",
    "x_values = np.linspace(-0.5, 1.5, 1000)\n",
    "\n",
    "# PDF and CDF\n",
    "pdf_values = uniform.pdf(x_values, loc=a, scale=b-a)\n",
    "cdf_values = uniform.cdf(x_values, loc=a, scale=b-a)\n",
    "\n",
    "# Plotting\n",
    "plt.figure(figsize=(12, 6))\n",
    "\n",
    "# Plot PDF\n",
    "plt.subplot(1, 2, 1)\n",
    "plt.plot(x_values, pdf_values, color='blue', label='PDF')\n",
    "plt.title(\"Uniform Distribution - PDF\")\n",
    "plt.xlabel(\"Value\")\n",
    "plt.ylabel(\"Density\")\n",
    "plt.legend()\n",
    "\n",
    "# Plot CDF\n",
    "plt.subplot(1, 2, 2)\n",
    "plt.plot(x_values, cdf_values, color='green', label='CDF')\n",
    "plt.title(\"Uniform Distribution - CDF\")\n",
    "plt.xlabel(\"Value\")\n",
    "plt.ylabel(\"Cumulative Probability\")\n",
    "plt.legend()\n",
    "\n",
    "plt.tight_layout()\n",
    "plt.show()"
   ]
  }
 ],
 "metadata": {
  "kernelspec": {
   "display_name": "Python 3",
   "language": "python",
   "name": "python3"
  },
  "language_info": {
   "name": "python",
   "version": "3.12.2"
  }
 },
 "nbformat": 4,
 "nbformat_minor": 2
}
